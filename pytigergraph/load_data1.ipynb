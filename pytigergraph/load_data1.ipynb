{
 "cells": [
  {
   "cell_type": "code",
   "execution_count": 30,
   "metadata": {},
   "outputs": [],
   "source": [
    "# importing the libraries\n",
    "import pyTigerGraph as tg\n",
    "import pandas as pd\n",
    "import numpy as n\n",
    "import datetime as dt"
   ]
  },
  {
   "cell_type": "code",
   "execution_count": 31,
   "metadata": {},
   "outputs": [
    {
     "name": "stdout",
     "output_type": "stream",
     "text": [
      "veunfd0ff8ierj16656us6d4m9i9duv1\n"
     ]
    }
   ],
   "source": [
    "# PERF\n",
    "\n",
    "host = \"\"\n",
    "graphname = \"\"\n",
    "username = \"\"\n",
    "password = \"\"\n",
    "secret_token = \"29dhf29o9p9gd22r2f4fkdhqrd8jdof4\"\n",
    "token = tg.TigerGraphConnection(host=host, graphname=graphname, restppPort=\"9000\", sslPort=\"8080\",username=username, password=password).getToken(secret_token, \"1000000\")[0]\n",
    "\n",
    "conn = tg.TigerGraphConnection(host=host,graphname=graphname, apiToken=token, restppPort=\"9000\", sslPort=\"8080\")\n",
    "print(token)\n",
    "\n",
    "\n"
   ]
  },
  {
   "cell_type": "code",
   "execution_count": 32,
   "metadata": {},
   "outputs": [],
   "source": [
    "Location_Path=''"
   ]
  },
  {
   "cell_type": "code",
   "execution_count": 45,
   "metadata": {},
   "outputs": [
    {
     "name": "stderr",
     "output_type": "stream",
     "text": [
      "C:\\Users\\Prathick_k\\AppData\\Local\\Temp\\ipykernel_14392\\3693019457.py:5: FutureWarning: The parsing of 'now' in pd.to_datetime without `utc=True` is deprecated. In a future version, this will match Timestamp('now') and Timestamp.now()\n",
      "  chunk['CPDINGESTIONDATETIME'] = pd.to_datetime('now').strftime(\"%Y-%m-%d %H:%M:%S\")\n",
      "C:\\Users\\Prathick_k\\AppData\\Local\\Temp\\ipykernel_14392\\3693019457.py:6: FutureWarning: The parsing of 'now' in pd.to_datetime without `utc=True` is deprecated. In a future version, this will match Timestamp('now') and Timestamp.now()\n",
      "  chunk['CPDUPDATEDATETIME'] = pd.to_datetime('now').strftime(\"%Y-%m-%d %H:%M:%S\")\n"
     ]
    },
    {
     "name": "stdout",
     "output_type": "stream",
     "text": [
      "85972 HAS_SITE_DUNS EDGES Upserted\n",
      "85972 HAS_SITE_DUNS EDGES Upserted\n",
      "85972 HAS_SITE_DUNS EDGES Upserted\n",
      "85972 HAS_SITE_DUNS EDGES Upserted\n"
     ]
    }
   ],
   "source": [
    "ADDRESS_KEYS_PATH = Location_Path+\"VW_CST_ED_HAS_SITE_DUNS_MCC.csv\"\n",
    "df_ADDRESS_KEYS= pd.read_csv(ADDRESS_KEYS_PATH,encoding='utf-8',quotechar='\"',dtype={'TGT':str}).fillna('')\n",
    "chunks=n.array_split(df_ADDRESS_KEYS,4)\n",
    "for chunk in chunks:\n",
    "    chunk['CPDINGESTIONDATETIME'] = pd.to_datetime('now').strftime(\"%Y-%m-%d %H:%M:%S\")\n",
    "    chunk['CPDUPDATEDATETIME'] = pd.to_datetime('now').strftime(\"%Y-%m-%d %H:%M:%S\")\n",
    "    HAS_SITE_DUNS_edge=conn.upsertEdgeDataFrame(chunk, \"AddressSourceKey\", \"HAS_SITE_DUNS\", \"DUNS\", from_id=\"SRC\", to_id=\"TGT\", attributes={\"CreatedBy\": \"CREATEDBY\",\"CreatedDateTime\": \"CREATEDDATETIME\", \"LastUpdatedBy\": \"LASTUPDATEDBY\",\"UpdatedDateTime\": \"UPDATEDDATETIME\",\"CPDIngestionDateTime\": \"CPDINGESTIONDATETIME\",\"CPDUpdateDateTime\": \"CPDUPDATEDATETIME\",\"CreatedRecordSource\": \"CREATEDRECORDSOURCE\",\"UpdatedRecordSource\": \"UPDATEDRECORDSOURCE\",\"TransactionID\": \"TRANSACTIONID\"})\n",
    "    print(str(HAS_SITE_DUNS_edge ) + \" HAS_SITE_DUNS EDGES Upserted\")"
   ]
  },
  {
   "cell_type": "code",
   "execution_count": 44,
   "metadata": {},
   "outputs": [
    {
     "name": "stdout",
     "output_type": "stream",
     "text": [
      "object\n",
      "0    2022-03-07 08:13:59\n",
      "1    2023-04-25 00:00:00\n",
      "2    2023-04-25 00:00:00\n",
      "3    2021-07-21 14:32:08\n",
      "4    2014-12-19 13:15:26\n",
      "Name: CREATEDDATETIME, dtype: object\n",
      "object\n",
      "0    4/25/2023 0:00\n",
      "1    4/25/2023 0:00\n",
      "2    4/25/2023 0:00\n",
      "3    4/25/2023 0:00\n",
      "4    4/25/2023 0:00\n",
      "Name: CREATEDDATETIME, dtype: object\n"
     ]
    }
   ],
   "source": [
    "ADDRESS_KEYS_PATH = Location_Path + \"VW_CST_ED_HAS_SITE_DUNS_MCC.csv\"\n",
    "chunk = pd.read_csv(ADDRESS_KEYS_PATH, encoding='utf-8', quotechar='\"', dtype={'TGT': str}).fillna('')\n",
    "print(chunk['UPDATEDDATETIME'].dtype)\n",
    "print(chunk['CREATEDDATETIME'].head())\n",
    "ADDRESS_KEYS1_PATH = Location_Path + \"VW_CST_ED_ORG_BILLING_MCC.csv\"\n",
    "chunk = pd.read_csv(ADDRESS_KEYS1_PATH, encoding='utf-8', quotechar='\"', dtype={'TGT': str}).fillna('')\n",
    "print(chunk['UPDATEDDATETIME'].dtype)\n",
    "print(chunk['CREATEDDATETIME'].head())\n",
    "\n",
    "\n",
    "\n"
   ]
  },
  {
   "cell_type": "code",
   "execution_count": 16,
   "metadata": {},
   "outputs": [
    {
     "name": "stderr",
     "output_type": "stream",
     "text": [
      "C:\\Users\\Prathick_k\\AppData\\Local\\Temp\\ipykernel_14392\\1191827528.py:5: FutureWarning: The parsing of 'now' in pd.to_datetime without `utc=True` is deprecated. In a future version, this will match Timestamp('now') and Timestamp.now()\n",
      "  chunk['CPDINGESTIONDATETIME'] = pd.to_datetime('now').strftime(\"%Y-%m-%d %H:%M:%S\")\n",
      "C:\\Users\\Prathick_k\\AppData\\Local\\Temp\\ipykernel_14392\\1191827528.py:6: FutureWarning: The parsing of 'now' in pd.to_datetime without `utc=True` is deprecated. In a future version, this will match Timestamp('now') and Timestamp.now()\n",
      "  chunk['CPDUPDATEDATETIME'] = pd.to_datetime('now').strftime(\"%Y-%m-%d %H:%M:%S\")\n",
      "C:\\Users\\Prathick_k\\AppData\\Local\\Temp\\ipykernel_14392\\1191827528.py:7: FutureWarning: The parsing of 'now' in pd.to_datetime without `utc=True` is deprecated. In a future version, this will match Timestamp('now') and Timestamp.now()\n",
      "  chunk['UPDATEDDATETIME'] = pd.to_datetime('now').strftime(\"%Y-%m-%d %H:%M:%S\")\n",
      "C:\\Users\\Prathick_k\\AppData\\Local\\Temp\\ipykernel_14392\\1191827528.py:8: FutureWarning: The parsing of 'now' in pd.to_datetime without `utc=True` is deprecated. In a future version, this will match Timestamp('now') and Timestamp.now()\n",
      "  chunk['CREATEDDATETIME'] = pd.to_datetime('now').strftime(\"%Y-%m-%d %H:%M:%S\")\n"
     ]
    },
    {
     "name": "stdout",
     "output_type": "stream",
     "text": [
      "65846 ORG_BILLING_ADDRESS EDGES Upserted\n",
      "65846 ORG_BILLING_ADDRESS EDGES Upserted\n"
     ]
    }
   ],
   "source": [
    "ADDRESS_KEYS_PATH = Location_Path+\"VW_CST_ED_ORG_BILLING_MCC.csv\"\n",
    "df_ADDRESS_KEYS= pd.read_csv(ADDRESS_KEYS_PATH,encoding='utf-8',quotechar='\"').fillna('')\n",
    "chunks=n.array_split(df_ADDRESS_KEYS,2)\n",
    "for chunk in chunks:\n",
    "    chunk['CPDINGESTIONDATETIME'] = pd.to_datetime('now').strftime(\"%Y-%m-%d %H:%M:%S\")\n",
    "    chunk['CPDUPDATEDATETIME'] = pd.to_datetime('now').strftime(\"%Y-%m-%d %H:%M:%S\")\n",
    "    chunk['UPDATEDDATETIME'] = pd.to_datetime('now').strftime(\"%Y-%m-%d %H:%M:%S\")\n",
    "    chunk['CREATEDDATETIME'] = pd.to_datetime('now').strftime(\"%Y-%m-%d %H:%M:%S\")\n",
    "    chunk['PRIMARY_ADDRESS_FLAG']=chunk['PRIMARY_ADDRESS_FLAG'].replace('TRUE','True')\n",
    "    chunk['PRIMARY_ADDRESS_FLAG']=chunk['PRIMARY_ADDRESS_FLAG'].replace('FALSE','False')\n",
    "    ORG_BILLING_ADDRESS_edge=conn.upsertEdgeDataFrame(chunk, \"Organization\", \"ORG_BILLING_ADDRESS\", \"Address\", from_id=\"SRC\", to_id=\"TGT\", attributes={\"PrimaryAddressFlag\":\"PRIMARY_ADDRESS_FLAG\",\"Status\":\"STATUS\",\"CreatedBy\": \"CREATEDBY\",\"CreatedDateTime\": \"CREATEDDATETIME\", \"LastUpdatedBy\": \"LASTUPDATEDBY\",\"UpdatedDateTime\": \"UPDATEDDATETIME\",\"CPDIngestionDateTime\": \"CPDINGESTIONDATETIME\",\"CPDUpdateDateTime\": \"CPDUPDATEDATETIME\",\"CreatedRecordSource\": \"CREATEDRECORDSOURCE\",\"UpdatedRecordSource\": \"UPDATEDRECORDSOURCE\",\"TransactionID\": \"TRANSACTIONID\"})\n",
    "    print(str(ORG_BILLING_ADDRESS_edge ) + \" ORG_BILLING_ADDRESS EDGES Upserted\")\n",
    "    "
   ]
  }
 ],
 "metadata": {
  "kernelspec": {
   "display_name": "Python 3",
   "language": "python",
   "name": "python3"
  },
  "language_info": {
   "codemirror_mode": {
    "name": "ipython",
    "version": 3
   },
   "file_extension": ".py",
   "mimetype": "text/x-python",
   "name": "python",
   "nbconvert_exporter": "python",
   "pygments_lexer": "ipython3",
   "version": "3.10.5"
  },
  "orig_nbformat": 4
 },
 "nbformat": 4,
 "nbformat_minor": 2
}
